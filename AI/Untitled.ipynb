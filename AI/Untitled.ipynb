{
 "cells": [
  {
   "cell_type": "code",
   "execution_count": 3,
   "id": "f02d814f-87a4-4a7f-bab0-cc966b4841c8",
   "metadata": {},
   "outputs": [
    {
     "name": "stdout",
     "output_type": "stream",
     "text": [
      " * Serving Flask app '__main__'\n",
      " * Debug mode: off\n"
     ]
    },
    {
     "name": "stderr",
     "output_type": "stream",
     "text": [
      "WARNING: This is a development server. Do not use it in a production deployment. Use a production WSGI server instead.\n",
      " * Running on all addresses (0.0.0.0)\n",
      " * Running on http://127.0.0.1:5000\n",
      " * Running on http://192.168.96.167:5000\n",
      "Press CTRL+C to quit\n"
     ]
    }
   ],
   "source": [
    "from flask import Flask, request, jsonify\n",
    "import pandas as pd\n",
    "import numpy as np\n",
    "from sklearn.cluster import DBSCAN\n",
    "from geopy.distance import geodesic\n",
    "\n",
    "app = Flask(__name__)\n",
    "\n",
    "# Load Crime Data\n",
    "df = pd.read_csv('crime_data.csv')\n",
    "\n",
    "# Preprocess Data\n",
    "df.drop(columns=[\"Date\", \"Time\", \"Victim_Age\", \"Victim_Gender\", \"Weapon_Used\", \"Reported_By\", \"Response_Time(min)\", \"Arrest_Made\"], inplace=True)\n",
    "severity_mapping = {\"Low\": 1, \"Moderate\": 2, \"Severe\": 3}\n",
    "df[\"Severity\"] = df[\"Severity\"].map(severity_mapping)\n",
    "\n",
    "# Perform Clustering\n",
    "coords = df[['Latitude', 'Longitude']].values\n",
    "db = DBSCAN(eps=0.05, min_samples=3, metric='haversine').fit(np.radians(coords))\n",
    "df[\"Cluster\"] = db.labels_\n",
    "\n",
    "# Risk Detection Function\n",
    "def check_risk(user_location, threshold=0.5):\n",
    "    alerts = []\n",
    "    for _, row in df[df[\"Cluster\"] != -1].iterrows():\n",
    "        crime_loc = (row[\"Latitude\"], row[\"Longitude\"])\n",
    "        distance = geodesic(user_location, crime_loc).km\n",
    "        if distance < threshold:\n",
    "            alerts.append({\"crime\": row['Crime_Type'], \"severity\": row['Severity'], \"distance\": distance})\n",
    "    return alerts if alerts else [{\"message\": \"You are in a safe zone.\"}]\n",
    "\n",
    "@app.route('/check_risk', methods=['POST'])\n",
    "def risk_api():\n",
    "    data = request.json\n",
    "    user_location = (data['latitude'], data['longitude'])\n",
    "    response = check_risk(user_location)\n",
    "    return jsonify(response)\n",
    "\n",
    "if __name__ == '__main__':\n",
    "    app.run(host='0.0.0.0', port=5000)\n"
   ]
  },
  {
   "cell_type": "code",
   "execution_count": null,
   "id": "2e9f6fbc-76ca-40d5-a8ea-1a855acb1432",
   "metadata": {},
   "outputs": [],
   "source": []
  }
 ],
 "metadata": {
  "kernelspec": {
   "display_name": "Python 3 (ipykernel)",
   "language": "python",
   "name": "python3"
  },
  "language_info": {
   "codemirror_mode": {
    "name": "ipython",
    "version": 3
   },
   "file_extension": ".py",
   "mimetype": "text/x-python",
   "name": "python",
   "nbconvert_exporter": "python",
   "pygments_lexer": "ipython3",
   "version": "3.12.4"
  }
 },
 "nbformat": 4,
 "nbformat_minor": 5
}
