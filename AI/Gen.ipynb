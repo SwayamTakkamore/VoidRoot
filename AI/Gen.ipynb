{
 "cells": [
  {
   "cell_type": "code",
   "execution_count": 7,
   "id": "fea573ab-5c6a-4b72-a3a0-69e2a0271561",
   "metadata": {},
   "outputs": [
    {
     "name": "stdout",
     "output_type": "stream",
     "text": [
      "Crime dataset generated successfully as crime_data.csv\n"
     ]
    }
   ],
   "source": [
    "import csv\n",
    "import random\n",
    "from datetime import datetime, timedelta\n",
    "\n",
    "def generate_crime_data(rows=150):\n",
    "    crime_types = [\"Harassment\", \"Assault\", \"Stalking\", \"Theft\", \"Kidnapping\", \"Domestic Violence\", \"Verbal Abuse\", \"Snatching\", \"Sexual Assault\", \"Cyber Harassment\", \"Acid Attack\", \"Threats\", \"Eve Teasing\", \"Forced Entry\", \"Groping\"]\n",
    "    locations = [\"Market Street\", \"City Park\", \"Residential Area\", \"Bus Stop\", \"Near School\", \"Apartment Complex\", \"Mall\", \"Railway Station\", \"Parking Lot\", \"Street Corner\", \"Workplace\", \"Shopping Area\", \"Home\", \"Concert Venue\"]\n",
    "    severity_levels = [\"Low\", \"Moderate\", \"Severe\"]\n",
    "    \n",
    "    latitude_range = (19.07, 19.17)  # Example range for Nagpur\n",
    "    longitude_range = (79.05, 79.25)\n",
    "    \n",
    "    data = []\n",
    "    start_date = datetime(2024, 1, 1)\n",
    "    \n",
    "    for i in range(rows):\n",
    "        crime_id = 100 + i\n",
    "        crime_type = random.choice(crime_types)\n",
    "        location = random.choice(locations)\n",
    "        date = (start_date + timedelta(days=random.randint(0, 90))).strftime('%Y-%m-%d')\n",
    "        time = f\"{random.randint(0, 23)}:{random.randint(0, 59)}\"\n",
    "        severity = random.choice(severity_levels)\n",
    "        victim_age = random.randint(16, 45)\n",
    "        victim_gender = \"Female\"\n",
    "        weapon_used = random.choice([\"None\", \"Knife\", \"Blunt Object\", \"Gun\", \"Acid\"])\n",
    "        reported_by = random.choice([\"Victim\", \"Witness\", \"Police\", \"CCTV\", \"Neighbor\", \"Anonymous\"])\n",
    "        response_time = random.randint(3, 30)\n",
    "        arrest_made = random.choice([\"Yes\", \"No\"])\n",
    "        latitude = round(random.uniform(*latitude_range), 6)\n",
    "        longitude = round(random.uniform(*longitude_range), 6)\n",
    "        \n",
    "        data.append([crime_id, crime_type, location, date, time, severity, victim_age, victim_gender, weapon_used, reported_by, response_time, arrest_made, latitude, longitude])\n",
    "    \n",
    "    with open(\"crime_data.csv\", \"w\", newline=\"\") as file:\n",
    "        writer = csv.writer(file)\n",
    "        writer.writerow([\"Crime_ID\", \"Crime_Type\", \"Location\", \"Date\", \"Time\", \"Severity\", \"Victim_Age\", \"Victim_Gender\", \"Weapon_Used\", \"Reported_By\", \"Response_Time(min)\", \"Arrest_Made\", \"Latitude\", \"Longitude\"])\n",
    "        writer.writerows(data)\n",
    "    \n",
    "    print(\"Crime dataset generated successfully as crime_data.csv\")\n",
    "\n",
    "generate_crime_data()\n"
   ]
  },
  {
   "cell_type": "code",
   "execution_count": null,
   "id": "318fb776-af55-4648-aff0-23f03b15795c",
   "metadata": {},
   "outputs": [],
   "source": []
  }
 ],
 "metadata": {
  "kernelspec": {
   "display_name": "Python 3 (ipykernel)",
   "language": "python",
   "name": "python3"
  },
  "language_info": {
   "codemirror_mode": {
    "name": "ipython",
    "version": 3
   },
   "file_extension": ".py",
   "mimetype": "text/x-python",
   "name": "python",
   "nbconvert_exporter": "python",
   "pygments_lexer": "ipython3",
   "version": "3.12.4"
  }
 },
 "nbformat": 4,
 "nbformat_minor": 5
}
